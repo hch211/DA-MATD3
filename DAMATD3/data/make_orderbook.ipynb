{
 "cells": [
  {
   "cell_type": "code",
   "execution_count": null,
   "id": "1114112e",
   "metadata": {},
   "outputs": [],
   "source": [
    "import numpy as np\n",
    "import pandas as pd\n",
    "import pickle5 as pickle\n",
    "from sklearn.preprocessing import MinMaxScaler, StandardScaler\n",
    "from copy import deepcopy"
   ]
  },
  {
   "cell_type": "code",
   "execution_count": null,
   "id": "53c2cf82",
   "metadata": {},
   "outputs": [],
   "source": [
    "price = np.array([0.1199, 0.1199, 0.1199, 0.1199, 0.1199, 0.1199, 0.1199, 0.1199, 0.1199, 0.1199, 0.1199,\n",
    "                       0.1199, 0.1199, 0.1199, 0.1199, 0.1199, 0.2499, 0.2499, 0.2499, 0.1199, 0.1199, 0.1199,\n",
    "                       0.1199, 0.1199, 0.1199])\n",
    "step_1h = 0\n",
    "gas_price = np.array([0.15820997, 0.17198271, 0.14196519, 0.13808057, 0.1345491, 0.13348966,\n",
    "                      0.13313651, 0.12995819, 0.13278337, 0.14267149, 0.15962256, 0.19352469])"
   ]
  },
  {
   "cell_type": "code",
   "execution_count": null,
   "id": "76ba2a32",
   "metadata": {},
   "outputs": [],
   "source": [
    "tou_price = price[step_1h]  # electricity buy price from the grid\n",
    "fit_price = 0.04  # electricity sell price\n",
    "p_ng = self.gas_price[4]  # natural gas price (May)\n",
    "p_h2 = 5  # hydrogen gas price ($/kg)\n",
    "\n",
    "# s_bg = 1.2  # price ratio of buying from grid to p2p\n",
    "# s_sg = 0.8  # price ratio of selling from grid to p2p\n",
    "\n",
    "k_we = 0.8  # water electrolyser efficiency\n",
    "k_fc_e = 0.3  # fuel cell to electricity efficiency\n",
    "k_fc_h = 0.55  # fuel cell to heat efficiency\n",
    "k_gb = 0.9  # gas boiler efficiency\n",
    "k_ng2q = 8.816  # natural gas(m3) to Q(KWh) ratio\n",
    "k_h2q = 33.33  # hydrogen(kg) to Q(KWh) ratio\n",
    "\n",
    "c_p = 3 * tou_price  # electricity penalty coefficient\n",
    "c_h = 3 * p_ng  # heat penalty coefficient\n",
    "\n",
    "beta_gas = 0.245  # carbon intensity kg/kwh\n",
    "beta_elec = 0.683  # carbon intensity kg/kwh\n",
    "\n",
    "reward = 0\n",
    "E_dif = 0  # electricity balance difference (Kwh)\n",
    "h2_dif = 0  # h2 balance difference (kg)\n",
    "H_dif = 0  # heat balance difference (m3)\n",
    "\n",
    "# ----------------------------- DA market ------------------------------- #\n",
    "\n",
    "# electricity orderbook\n",
    "E_da_quantity = action[1] * 100  # kwh\n",
    "H_da_quantity = action[3] * 100  # kwh\n",
    "res_da_elec = {\n",
    "    \"name\": \"res\",\n",
    "    \"da_price\": action[0], \"tou_price\": tou_price, \"fit_price\": fit_price,\n",
    "    \"da_quantity\": E_da_quantity, \"reward\": 0}\n",
    "com_da_elec = {\n",
    "    \"name\": \"com\", \"da_price\": self.other_mg_da_info.iloc[self.step_1h, 0],\n",
    "    \"da_quantity\": self.other_mg_da_info.iloc[self.step_1h, 1], \"reward\": 0}\n",
    "ind_da_elec = {\n",
    "    \"name\": \"ind\", \"da_price\": self.other_mg_da_info.iloc[self.step_1h, 4],\n",
    "    \"da_quantity\": self.other_mg_da_info.iloc[self.step_1h, 5], \"reward\": 0}\n",
    "\n",
    "# heat orderbook\n",
    "tou_price_h = self.gas_price[4] / (k_ng2q * k_gb)  # equivalent heat price $/kwh (heat provided by gas boiler)\n",
    "fit_price_h = 0  # can not sell heat back to the external network\n",
    "res_da_heat = {\n",
    "    \"name\": \"res\",\n",
    "    \"da_price\": action[2], \"tou_price\": tou_price_h, \"fit_price\": fit_price_h,\n",
    "    \"da_quantity\": H_da_quantity, \"reward\": 0}\n",
    "com_da_heat = {\n",
    "    \"name\": \"com\", \"da_price\": self.other_mg_da_info.iloc[self.step_1h, 2],\n",
    "    \"da_quantity\": self.other_mg_da_info.iloc[self.step_1h, 3], \"reward\": 0}\n",
    "ind_da_heat = {\n",
    "    \"name\": \"ind\", \"da_price\": self.other_mg_da_info.iloc[self.step_1h, 6],\n",
    "    \"da_quantity\": self.other_mg_da_info.iloc[self.step_1h, 7], \"reward\": 0}\n"
   ]
  },
  {
   "cell_type": "code",
   "execution_count": null,
   "id": "f4eda7b4",
   "metadata": {},
   "outputs": [],
   "source": [
    "alpha_co2 = 0.0316  # carbon tax $/kg\n",
    "tou_price = res_da_info[\"tou_price\"]\n",
    "fit_price = res_da_info[\"fit_price\"]\n",
    "\n",
    "# change price from (-1,1) to real price\n",
    "res_da_info[\"da_price\"] = (res_da_info[\"da_price\"] + 1) * 0.5 * (tou_price - fit_price) + fit_price\n",
    "com_da_info[\"da_price\"] = (com_da_info[\"da_price\"] + 1) * 0.5 * (tou_price - fit_price) + fit_price\n",
    "ind_da_info[\"da_price\"] = (ind_da_info[\"da_price\"] + 1) * 0.5 * (tou_price - fit_price) + fit_price"
   ]
  },
  {
   "cell_type": "code",
   "execution_count": null,
   "id": "cd4f0f12",
   "metadata": {},
   "outputs": [],
   "source": [
    "res_data, com_data, ind_data = deepcopy(res_da_info), deepcopy(com_da_info), deepcopy(ind_da_info)\n",
    "for da_info in [res_data, com_data, ind_data]:\n",
    "    if da_info[\"da_quantity\"] < 0:\n",
    "        da_info[\"role\"] = \"seller\"\n",
    "        da_info[\"da_quantity\"] = -da_info[\"da_quantity\"]\n",
    "    else:\n",
    "        da_info[\"role\"] = \"buyer\"\n",
    "\n",
    "df = pd.DataFrame(data=[res_data, com_data, ind_data])\n",
    "buy_order_book = df[df.role == \"buyer\"].sort_values(by='da_price', ascending=False)  # descending price\n",
    "sell_order_book = df[df.role == \"seller\"].sort_values(by='da_price')  # ascending price"
   ]
  }
 ],
 "metadata": {
  "kernelspec": {
   "display_name": "Python 3 (ipykernel)",
   "language": "python",
   "name": "python3"
  },
  "language_info": {
   "codemirror_mode": {
    "name": "ipython",
    "version": 3
   },
   "file_extension": ".py",
   "mimetype": "text/x-python",
   "name": "python",
   "nbconvert_exporter": "python",
   "pygments_lexer": "ipython3",
   "version": "3.7.4"
  }
 },
 "nbformat": 4,
 "nbformat_minor": 5
}
